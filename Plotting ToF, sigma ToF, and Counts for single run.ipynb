{
 "cells": [
  {
   "cell_type": "markdown",
   "id": "f29c2c65",
   "metadata": {},
   "source": [
    "# Plotting Notebook: Single Run"
   ]
  },
  {
   "cell_type": "markdown",
   "id": "042a8950",
   "metadata": {},
   "source": [
    "Hi! Welcome :) This code was created by Marilena and refreshed and documented by Annabelle.\n",
    "The goal of this script is to create plot ToF, sigma ToF, and counts for a single run.\n",
    "Make a copy and try with your own data! Need a hand? Please forward your questions to aczihaly@triumf.ca"
   ]
  },
  {
   "cell_type": "markdown",
   "id": "51905a2e",
   "metadata": {},
   "source": [
    "#### import packages"
   ]
  },
  {
   "cell_type": "code",
   "execution_count": 34,
   "id": "c0cd5a3a",
   "metadata": {},
   "outputs": [],
   "source": [
    "import pandas as pd\n",
    "import matplotlib.pyplot as plt\n",
    "import numpy as np\n",
    "from matplotlib.colors import LogNorm\n",
    "from scipy.optimize import curve_fit"
   ]
  },
  {
   "cell_type": "markdown",
   "id": "e5cc0706",
   "metadata": {},
   "source": [
    "#### define tof_resonance which needs 1 input: a dataframe"
   ]
  },
  {
   "cell_type": "code",
   "execution_count": 35,
   "id": "c61acc97",
   "metadata": {},
   "outputs": [],
   "source": [
    "def tof_res(df): \n",
    "\n",
    "    ToF = []\n",
    "    counts = []\n",
    "    x = []\n",
    "    sigma = []\n",
    "    \n",
    "    for i in range(0, max(df['x_step_idx'])+1): # for i in range 0 to the max value in x_step_idx col (inclusive)\n",
    "        \n",
    "        df_i = df.loc[df['x_step_idx']==i] # df_i is a new dataframe that has all rows where the value in df['x_step_idx'] is equal to i\n",
    "        \n",
    "        ToF.append(np.average(df_i['tof'])) \n",
    "        sigma.append(np.std(df_i['tof']))\n",
    "        x.append(i) # i is just scan point\n",
    "        counts.append(len(df_i['tof']))\n",
    "        \n",
    "    return ToF, sigma, x, counts"
   ]
  },
  {
   "cell_type": "markdown",
   "id": "41a1f826",
   "metadata": {},
   "source": [
    "#### load data"
   ]
  },
  {
   "cell_type": "code",
   "execution_count": 36,
   "id": "88349ce3",
   "metadata": {},
   "outputs": [
    {
     "name": "stderr",
     "output_type": "stream",
     "text": [
      "C:\\Users\\aczihaly\\AppData\\Local\\anaconda3\\lib\\site-packages\\numpy\\lib\\function_base.py:518: RuntimeWarning: Mean of empty slice.\n",
      "  avg = a.mean(axis, **keepdims_kw)\n",
      "C:\\Users\\aczihaly\\AppData\\Local\\anaconda3\\lib\\site-packages\\numpy\\core\\_methods.py:190: RuntimeWarning: invalid value encountered in double_scalars\n",
      "  ret = ret.dtype.type(ret / rcount)\n"
     ]
    }
   ],
   "source": [
    "df = pd.read_csv(\"run35613.csv\") \n",
    "\n",
    "df = df.loc[df['tof']<=130] #apply tof cut to dateframe\n",
    "\n",
    "ToF, sigma, x, counts = tof_res(df)"
   ]
  },
  {
   "cell_type": "code",
   "execution_count": 37,
   "id": "52fb9284",
   "metadata": {},
   "outputs": [
    {
     "data": {
      "text/html": [
       "<div>\n",
       "<style scoped>\n",
       "    .dataframe tbody tr th:only-of-type {\n",
       "        vertical-align: middle;\n",
       "    }\n",
       "\n",
       "    .dataframe tbody tr th {\n",
       "        vertical-align: top;\n",
       "    }\n",
       "\n",
       "    .dataframe thead th {\n",
       "        text-align: right;\n",
       "    }\n",
       "</style>\n",
       "<table border=\"1\" class=\"dataframe\">\n",
       "  <thead>\n",
       "    <tr style=\"text-align: right;\">\n",
       "      <th></th>\n",
       "      <th>shot</th>\n",
       "      <th>event</th>\n",
       "      <th>tof</th>\n",
       "      <th>ch</th>\n",
       "      <th>pos_x</th>\n",
       "      <th>pos_y</th>\n",
       "      <th>quad_freq</th>\n",
       "      <th>dipole_freq</th>\n",
       "      <th>loop</th>\n",
       "      <th>shot.1</th>\n",
       "      <th>...</th>\n",
       "      <th>step_value_y</th>\n",
       "      <th>step_value_z</th>\n",
       "      <th>step_var_ppg</th>\n",
       "      <th>step_value_ppg</th>\n",
       "      <th>step_var_trapv</th>\n",
       "      <th>step_value_trapv</th>\n",
       "      <th>step_var_epics</th>\n",
       "      <th>step_value_epics</th>\n",
       "      <th>step_value_afg_freq</th>\n",
       "      <th>step_value_afg_volt</th>\n",
       "    </tr>\n",
       "  </thead>\n",
       "  <tbody>\n",
       "    <tr>\n",
       "      <th>0</th>\n",
       "      <td>0</td>\n",
       "      <td>35</td>\n",
       "      <td>85.767993</td>\n",
       "      <td>1.0</td>\n",
       "      <td>-1000.0</td>\n",
       "      <td>-1000.0</td>\n",
       "      <td>0</td>\n",
       "      <td>0</td>\n",
       "      <td>0</td>\n",
       "      <td>5</td>\n",
       "      <td>...</td>\n",
       "      <td>[]</td>\n",
       "      <td>[]</td>\n",
       "      <td>['/Equipment/PPGCompiler/Programming/pulse_tra...</td>\n",
       "      <td>[0.0015]</td>\n",
       "      <td>[]</td>\n",
       "      <td>[]</td>\n",
       "      <td>[]</td>\n",
       "      <td>[]</td>\n",
       "      <td>[]</td>\n",
       "      <td>[]</td>\n",
       "    </tr>\n",
       "    <tr>\n",
       "      <th>1</th>\n",
       "      <td>1</td>\n",
       "      <td>35</td>\n",
       "      <td>85.782373</td>\n",
       "      <td>1.0</td>\n",
       "      <td>-1000.0</td>\n",
       "      <td>-1000.0</td>\n",
       "      <td>0</td>\n",
       "      <td>0</td>\n",
       "      <td>0</td>\n",
       "      <td>5</td>\n",
       "      <td>...</td>\n",
       "      <td>[]</td>\n",
       "      <td>[]</td>\n",
       "      <td>['/Equipment/PPGCompiler/Programming/pulse_tra...</td>\n",
       "      <td>[0.0015]</td>\n",
       "      <td>[]</td>\n",
       "      <td>[]</td>\n",
       "      <td>[]</td>\n",
       "      <td>[]</td>\n",
       "      <td>[]</td>\n",
       "      <td>[]</td>\n",
       "    </tr>\n",
       "    <tr>\n",
       "      <th>2</th>\n",
       "      <td>2</td>\n",
       "      <td>35</td>\n",
       "      <td>85.779199</td>\n",
       "      <td>2.0</td>\n",
       "      <td>-1000.0</td>\n",
       "      <td>-1000.0</td>\n",
       "      <td>0</td>\n",
       "      <td>0</td>\n",
       "      <td>0</td>\n",
       "      <td>5</td>\n",
       "      <td>...</td>\n",
       "      <td>[]</td>\n",
       "      <td>[]</td>\n",
       "      <td>['/Equipment/PPGCompiler/Programming/pulse_tra...</td>\n",
       "      <td>[0.0015]</td>\n",
       "      <td>[]</td>\n",
       "      <td>[]</td>\n",
       "      <td>[]</td>\n",
       "      <td>[]</td>\n",
       "      <td>[]</td>\n",
       "      <td>[]</td>\n",
       "    </tr>\n",
       "    <tr>\n",
       "      <th>3</th>\n",
       "      <td>3</td>\n",
       "      <td>35</td>\n",
       "      <td>85.792627</td>\n",
       "      <td>4.0</td>\n",
       "      <td>-1000.0</td>\n",
       "      <td>-1000.0</td>\n",
       "      <td>0</td>\n",
       "      <td>0</td>\n",
       "      <td>0</td>\n",
       "      <td>5</td>\n",
       "      <td>...</td>\n",
       "      <td>[]</td>\n",
       "      <td>[]</td>\n",
       "      <td>['/Equipment/PPGCompiler/Programming/pulse_tra...</td>\n",
       "      <td>[0.0015]</td>\n",
       "      <td>[]</td>\n",
       "      <td>[]</td>\n",
       "      <td>[]</td>\n",
       "      <td>[]</td>\n",
       "      <td>[]</td>\n",
       "      <td>[]</td>\n",
       "    </tr>\n",
       "    <tr>\n",
       "      <th>4</th>\n",
       "      <td>4</td>\n",
       "      <td>35</td>\n",
       "      <td>85.793213</td>\n",
       "      <td>3.0</td>\n",
       "      <td>-1000.0</td>\n",
       "      <td>-1000.0</td>\n",
       "      <td>0</td>\n",
       "      <td>0</td>\n",
       "      <td>0</td>\n",
       "      <td>5</td>\n",
       "      <td>...</td>\n",
       "      <td>[]</td>\n",
       "      <td>[]</td>\n",
       "      <td>['/Equipment/PPGCompiler/Programming/pulse_tra...</td>\n",
       "      <td>[0.0015]</td>\n",
       "      <td>[]</td>\n",
       "      <td>[]</td>\n",
       "      <td>[]</td>\n",
       "      <td>[]</td>\n",
       "      <td>[]</td>\n",
       "      <td>[]</td>\n",
       "    </tr>\n",
       "  </tbody>\n",
       "</table>\n",
       "<p>5 rows × 28 columns</p>\n",
       "</div>"
      ],
      "text/plain": [
       "   shot  event        tof   ch   pos_x   pos_y  quad_freq  dipole_freq  loop  \\\n",
       "0     0     35  85.767993  1.0 -1000.0 -1000.0          0            0     0   \n",
       "1     1     35  85.782373  1.0 -1000.0 -1000.0          0            0     0   \n",
       "2     2     35  85.779199  2.0 -1000.0 -1000.0          0            0     0   \n",
       "3     3     35  85.792627  4.0 -1000.0 -1000.0          0            0     0   \n",
       "4     4     35  85.793213  3.0 -1000.0 -1000.0          0            0     0   \n",
       "\n",
       "   shot.1  ...  step_value_y  step_value_z  \\\n",
       "0       5  ...            []            []   \n",
       "1       5  ...            []            []   \n",
       "2       5  ...            []            []   \n",
       "3       5  ...            []            []   \n",
       "4       5  ...            []            []   \n",
       "\n",
       "                                        step_var_ppg step_value_ppg  \\\n",
       "0  ['/Equipment/PPGCompiler/Programming/pulse_tra...       [0.0015]   \n",
       "1  ['/Equipment/PPGCompiler/Programming/pulse_tra...       [0.0015]   \n",
       "2  ['/Equipment/PPGCompiler/Programming/pulse_tra...       [0.0015]   \n",
       "3  ['/Equipment/PPGCompiler/Programming/pulse_tra...       [0.0015]   \n",
       "4  ['/Equipment/PPGCompiler/Programming/pulse_tra...       [0.0015]   \n",
       "\n",
       "  step_var_trapv step_value_trapv  step_var_epics step_value_epics  \\\n",
       "0             []               []              []               []   \n",
       "1             []               []              []               []   \n",
       "2             []               []              []               []   \n",
       "3             []               []              []               []   \n",
       "4             []               []              []               []   \n",
       "\n",
       "  step_value_afg_freq step_value_afg_volt  \n",
       "0                  []                  []  \n",
       "1                  []                  []  \n",
       "2                  []                  []  \n",
       "3                  []                  []  \n",
       "4                  []                  []  \n",
       "\n",
       "[5 rows x 28 columns]"
      ]
     },
     "execution_count": 37,
     "metadata": {},
     "output_type": "execute_result"
    }
   ],
   "source": [
    "df.head() #take a look at the first 5 rows of data"
   ]
  },
  {
   "cell_type": "markdown",
   "id": "ca396bf6",
   "metadata": {},
   "source": [
    "#### create plots"
   ]
  },
  {
   "cell_type": "code",
   "execution_count": 38,
   "id": "4465e261",
   "metadata": {},
   "outputs": [
    {
     "data": {
      "image/png": "[encoded data removed]",
      "text/plain": [
       "<Figure size 500x500 with 3 Axes>"
      ]
     },
     "metadata": {},
     "output_type": "display_data"
    }
   ],
   "source": [
    "fig, axs = plt.subplots(3, figsize = [5,5])\n",
    "\n",
    "axs[0].set_title('Run35613')\n",
    "axs[0].plot(x, ToF, marker = 'o', color='hotpink', alpha=0.5)\n",
    "axs[0].set_ylabel('ToF (us)')\n",
    "\n",
    "axs[1].plot(x, sigma, marker = 'o', color='hotpink', alpha=0.5)\n",
    "axs[1].set_ylabel('sigma ToF (us)')\n",
    "\n",
    "axs[2].plot(x, counts, marker = 'o', color='hotpink', alpha=0.5)\n",
    "axs[2].set_ylabel('Counts')\n",
    "axs[2].set_xlabel('capture time scan point')\n",
    "\n",
    "plt.savefig('run35613.png', dpi = 200)"
   ]
  },
  {
   "cell_type": "code",
   "execution_count": null,
   "id": "d403a414",
   "metadata": {},
   "outputs": [],
   "source": []
  }
 ],
 "metadata": {
  "kernelspec": {
   "display_name": "Python 3 (ipykernel)",
   "language": "python",
   "name": "python3"
  },
  "language_info": {
   "codemirror_mode": {
    "name": "ipython",
    "version": 3
   },
   "file_extension": ".py",
   "mimetype": "text/x-python",
   "name": "python",
   "nbconvert_exporter": "python",
   "pygments_lexer": "ipython3",
   "version": "3.10.9"
  }
 },
 "nbformat": 4,
 "nbformat_minor": 5
}
